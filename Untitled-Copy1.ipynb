{
 "cells": [
  {
   "cell_type": "markdown",
   "metadata": {},
   "source": [
    " ## 1. Introduction"
   ]
  },
  {
   "cell_type": "markdown",
   "metadata": {},
   "source": [
    " ### 1.1. Data Dictionary\n",
    "* `PassengerId` feature is the unique id of the row and it doesn't have any effect on `Survived`.\n",
    "* `Survived` feature is binary (**0** or **1**); \n",
    "    - **1** = **Survived**\n",
    "    - **0** = **Not Survived**\n",
    "* `Pclass` (Passenger Class) feature is the socio-economic status of the passenger. It is a categorical ordinal feature which has **3** unique values (**1**,  **2 **or **3**);\n",
    "    - **1** = **Upper Class**\n",
    "    - **2** = **Middle Class**\n",
    "    - **3** = **Lower Class**\n",
    "* `Name`, `Sex` and `Age` features are self-explanatory.\n",
    "* `SibSp` feature is the total number of the passengers' siblings and spouse.\n",
    "* `Parch` feature is the total number of the passengers' parents and children.\n",
    "* `Ticket` feature is the ticket number of the passenger.\n",
    "* `Fare` feature is the passenger fare.\n",
    "* `Cabin` feature is the cabin number of the passenger.\n",
    "* `Embarked` is port of embarkation. It is a categorical feature and it has **3** unique values (**C**, **Q** or **S**);\n",
    "    - **C = Cherbourg**\n",
    "    - **Q = Queenstown**\n",
    "    - **S = Southampton**"
   ]
  },
  {
   "cell_type": "code",
   "execution_count": 1,
   "metadata": {},
   "outputs": [],
   "source": [
    "import seaborn"
   ]
  },
  {
   "cell_type": "code",
   "execution_count": null,
   "metadata": {},
   "outputs": [],
   "source": []
  },
  {
   "cell_type": "code",
   "execution_count": null,
   "metadata": {},
   "outputs": [],
   "source": []
  },
  {
   "cell_type": "code",
   "execution_count": null,
   "metadata": {},
   "outputs": [],
   "source": []
  },
  {
   "cell_type": "code",
   "execution_count": null,
   "metadata": {},
   "outputs": [],
   "source": []
  }
 ],
 "metadata": {
  "kernelspec": {
   "display_name": "Python 3",
   "language": "python",
   "name": "python3"
  },
  "language_info": {
   "codemirror_mode": {
    "name": "ipython",
    "version": 3
   },
   "file_extension": ".py",
   "mimetype": "text/x-python",
   "name": "python",
   "nbconvert_exporter": "python",
   "pygments_lexer": "ipython3",
   "version": "3.6.9"
  }
 },
 "nbformat": 4,
 "nbformat_minor": 2
}
